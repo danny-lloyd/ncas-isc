{
 "cells": [
  {
   "cell_type": "markdown",
   "id": "2713343a-c0f0-4da3-979f-bb0d9f8a5e4a",
   "metadata": {},
   "source": [
    "# Exercise 1:\n"
   ]
  },
  {
   "cell_type": "code",
   "execution_count": null,
   "id": "2a43691b-30b5-4a77-b9c5-462b64378424",
   "metadata": {},
   "outputs": [],
   "source": []
  }
 ],
 "metadata": {
  "kernelspec": {
   "display_name": "Python 3 + Jaspy",
   "language": "python",
   "name": "jaspy"
  },
  "language_info": {
   "codemirror_mode": {
    "name": "ipython",
    "version": 3
   },
   "file_extension": ".py",
   "mimetype": "text/x-python",
   "name": "python",
   "nbconvert_exporter": "python",
   "pygments_lexer": "ipython3",
   "version": "3.11.9"
  }
 },
 "nbformat": 4,
 "nbformat_minor": 5
}
