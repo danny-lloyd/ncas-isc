{
 "cells": [
  {
   "cell_type": "markdown",
   "id": "38e495fd-dc7a-4e98-a2ab-d7b28560db48",
   "metadata": {},
   "source": [
    "# Exercise 2: More xarray"
   ]
  },
  {
   "cell_type": "markdown",
   "id": "f1f5a3da-837a-4aec-9562-3df9f416cb23",
   "metadata": {},
   "source": [
    "## Plotting"
   ]
  },
  {
   "cell_type": "code",
   "execution_count": null,
   "id": "153fe887-2921-419e-917c-103703a029ed",
   "metadata": {},
   "outputs": [],
   "source": []
  },
  {
   "cell_type": "markdown",
   "id": "a65a89e3-cd8b-4ff6-8b44-1007e978d008",
   "metadata": {},
   "source": [
    "## Arithmetic and Aggregation"
   ]
  },
  {
   "cell_type": "code",
   "execution_count": null,
   "id": "7df65663-156e-4341-b98f-9562fa7bc7e0",
   "metadata": {},
   "outputs": [],
   "source": []
  }
 ],
 "metadata": {
  "kernelspec": {
   "display_name": "Python 3 + Jaspy",
   "language": "python",
   "name": "jaspy"
  },
  "language_info": {
   "codemirror_mode": {
    "name": "ipython",
    "version": 3
   },
   "file_extension": ".py",
   "mimetype": "text/x-python",
   "name": "python",
   "nbconvert_exporter": "python",
   "pygments_lexer": "ipython3",
   "version": "3.11.9"
  }
 },
 "nbformat": 4,
 "nbformat_minor": 5
}
