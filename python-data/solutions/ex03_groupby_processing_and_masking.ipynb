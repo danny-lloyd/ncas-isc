{
 "cells": [
  {
   "cell_type": "markdown",
   "id": "7e3a36bd-b713-4a08-9f6c-a6a0260c42c0",
   "metadata": {},
   "source": [
    "# Exercise 3: More xarray"
   ]
  },
  {
   "cell_type": "markdown",
   "id": "1fbfc303-a5c7-490f-887a-30ed1d93ffb6",
   "metadata": {},
   "source": [
    "## GroupBy processing"
   ]
  },
  {
   "cell_type": "code",
   "execution_count": null,
   "id": "58652e91-421e-4e0e-bfe6-187395b34409",
   "metadata": {},
   "outputs": [],
   "source": []
  },
  {
   "cell_type": "markdown",
   "id": "983ec3e6-228c-4bd5-b72b-6f3e0f05df93",
   "metadata": {},
   "source": [
    "## Masking"
   ]
  },
  {
   "cell_type": "code",
   "execution_count": null,
   "id": "98826f6f-4cfc-4355-bec7-7cf84cd1dd1a",
   "metadata": {},
   "outputs": [],
   "source": []
  }
 ],
 "metadata": {
  "kernelspec": {
   "display_name": "Python 3 + Jaspy",
   "language": "python",
   "name": "jaspy"
  },
  "language_info": {
   "codemirror_mode": {
    "name": "ipython",
    "version": 3
   },
   "file_extension": ".py",
   "mimetype": "text/x-python",
   "name": "python",
   "nbconvert_exporter": "python",
   "pygments_lexer": "ipython3",
   "version": "3.11.9"
  }
 },
 "nbformat": 4,
 "nbformat_minor": 5
}
