{
 "cells": [
  {
   "cell_type": "markdown",
   "id": "de2a613e-7102-4e10-8fee-4d07c0e1f9eb",
   "metadata": {
    "editable": true,
    "slideshow": {
     "slide_type": ""
    },
    "tags": []
   },
   "source": [
    "# Exercise 6: numpy"
   ]
  },
  {
   "cell_type": "markdown",
   "id": "ea1f5d14-d8ac-4c83-a0fa-54b2309f8cd1",
   "metadata": {},
   "source": [
    "## Aim: "
   ]
  },
  {
   "cell_type": "markdown",
   "id": "bd5f0117-b46f-475a-b6da-f4918a40f284",
   "metadata": {
    "editable": true,
    "slideshow": {
     "slide_type": ""
    },
    "tags": []
   },
   "source": [
    "You can find the teaching resources for this lesson here: https://numpy.org/doc/stable/user/quickstart.html"
   ]
  },
  {
   "cell_type": "markdown",
   "id": "8e3500eb-400a-45e4-b108-27a337b2fb84",
   "metadata": {},
   "source": [
    "### Issues covered:\n",
    "-"
   ]
  },
  {
   "cell_type": "markdown",
   "id": "91d90486-6b89-495c-b5bb-fb610dc73e15",
   "metadata": {},
   "source": [
    "## 1. Basics"
   ]
  },
  {
   "cell_type": "markdown",
   "id": "f78525c3-6a0a-44be-a898-84f5af46a25e",
   "metadata": {},
   "source": [
    "Let's start by creating some arrays - try to create an array using `a = np.array(1, 2, 3, 4)`. Does this work? Can you edit it to make it work?"
   ]
  },
  {
   "cell_type": "code",
   "execution_count": 11,
   "id": "56419349-939c-48df-b696-2f7c08ae7f41",
   "metadata": {},
   "outputs": [
    {
     "ename": "TypeError",
     "evalue": "array() takes from 1 to 2 positional arguments but 4 were given",
     "output_type": "error",
     "traceback": [
      "\u001b[0;31m---------------------------------------------------------------------------\u001b[0m",
      "\u001b[0;31mTypeError\u001b[0m                                 Traceback (most recent call last)",
      "Cell \u001b[0;32mIn[11], line 1\u001b[0m\n\u001b[0;32m----> 1\u001b[0m a \u001b[38;5;241m=\u001b[39m \u001b[43mnp\u001b[49m\u001b[38;5;241;43m.\u001b[39;49m\u001b[43marray\u001b[49m\u001b[43m(\u001b[49m\u001b[38;5;241;43m1\u001b[39;49m\u001b[43m,\u001b[49m\u001b[43m \u001b[49m\u001b[38;5;241;43m2\u001b[39;49m\u001b[43m,\u001b[49m\u001b[43m \u001b[49m\u001b[38;5;241;43m3\u001b[39;49m\u001b[43m,\u001b[49m\u001b[43m \u001b[49m\u001b[38;5;241;43m4\u001b[39;49m\u001b[43m)\u001b[49m\n\u001b[1;32m      2\u001b[0m \u001b[38;5;66;03m# You need to use the square brackets:\u001b[39;00m\n\u001b[1;32m      3\u001b[0m a \u001b[38;5;241m=\u001b[39m np\u001b[38;5;241m.\u001b[39marray([\u001b[38;5;241m1\u001b[39m, \u001b[38;5;241m2\u001b[39m, \u001b[38;5;241m3\u001b[39m, \u001b[38;5;241m4\u001b[39m])\n",
      "\u001b[0;31mTypeError\u001b[0m: array() takes from 1 to 2 positional arguments but 4 were given"
     ]
    }
   ],
   "source": [
    "a = np.array(1, 2, 3, 4)\n",
    "# You need to use the square brackets:\n",
    "a = np.array([1, 2, 3, 4])"
   ]
  },
  {
   "cell_type": "markdown",
   "id": "c7db7e8a-cdf5-4eaa-b1a5-301d89d170c6",
   "metadata": {},
   "source": [
    "1. Take a look at the following numpy array:\n",
    "```\n",
    "[[7.0, 8.0, 4.0, 2.0],\n",
    " [12.0, 1.0, 0.0, 10.0],\n",
    " [0.0, 0.0, 0.0, 0.0]]\n",
    "```\n",
    "- How many axes does it have?\n",
    "- What is the length of the array?\n",
    "\n",
    "Hint: you can use `.ndim` and `.shape` to help if you enclose the array in `np.array()` to define the array."
   ]
  },
  {
   "cell_type": "code",
   "execution_count": 9,
   "id": "0c33dc0e-fd79-4839-ac13-79ba785e78d3",
   "metadata": {},
   "outputs": [
    {
     "data": {
      "text/plain": [
       "(3, 4)"
      ]
     },
     "execution_count": 9,
     "metadata": {},
     "output_type": "execute_result"
    }
   ],
   "source": [
    "import numpy as np\n",
    "array = np.array([[7.0, 8.0, 4.0, 2.0], [12.0, 1.0, 0.0, 10.0], [0.0, 0.0, 0.0, 0.0]])\n",
    "array.ndim\n",
    "# There are 2 dimensions! It's a 2D array because it has rows and columns. Even though there are three sets of [ ] brackets, the structure is still 2D because each row is a 1D array and multiple rows together form the 2D array. \n",
    "array.shape\n",
    "# The first dimension (rows) is the outermost brackets - in our case it is 3. The second dimension (columns) is the number of values in each of the inner brackets, which is 4 in our case."
   ]
  },
  {
   "cell_type": "markdown",
   "id": "861d15c0-c5fa-4d34-84bf-154980a66088",
   "metadata": {},
   "source": [
    "2. Can you come up with an example of what a 3D array would look like? Use `np.zeros` to make it then print it out and have a look at `.ndim` and `.shape`"
   ]
  },
  {
   "cell_type": "code",
   "execution_count": 19,
   "id": "1756a861-f70d-4889-9244-a229d9b2e7b7",
   "metadata": {},
   "outputs": [
    {
     "data": {
      "text/plain": [
       "(3, 4, 2)"
      ]
     },
     "execution_count": 19,
     "metadata": {},
     "output_type": "execute_result"
    }
   ],
   "source": [
    "import numpy as np\n",
    "array_3d = np.zeros((3,4,2))\n",
    "array_3d\n",
    "array_3d.ndim\n",
    "array_3d.shape\n",
    "# A 3D array in numpy can be thought of as a collection of 2D arrays stacked together. Each layer is a 2D array and the third dimension is how many 2D arrays are stacked - in this case we have three lots of 2D arrays with 4 rows and 2 columns"
   ]
  },
  {
   "cell_type": "markdown",
   "id": "73d932df-887b-455f-93b2-ec265546b6cf",
   "metadata": {},
   "source": [
    "How many elements are in your array? Use `.size` to check."
   ]
  },
  {
   "cell_type": "code",
   "execution_count": 20,
   "id": "3d3c5463-aa6a-4167-9154-7b7f133e7bc3",
   "metadata": {},
   "outputs": [
    {
     "data": {
      "text/plain": [
       "24"
      ]
     },
     "execution_count": 20,
     "metadata": {},
     "output_type": "execute_result"
    }
   ],
   "source": [
    "array_3d.size"
   ]
  },
  {
   "cell_type": "markdown",
   "id": "86e107e7-57ef-4a3a-9ec6-65e32d289dee",
   "metadata": {},
   "source": [
    "What type are the elements in the array? Use `.dtype` to check."
   ]
  },
  {
   "cell_type": "code",
   "execution_count": 21,
   "id": "7351cf1f-0c66-4827-bfcd-29df913678a3",
   "metadata": {},
   "outputs": [
    {
     "data": {
      "text/plain": [
       "dtype('float64')"
      ]
     },
     "execution_count": 21,
     "metadata": {},
     "output_type": "execute_result"
    }
   ],
   "source": [
    "array_3d.dtype"
   ]
  },
  {
   "cell_type": "markdown",
   "id": "f7471a24-a44b-48ca-8276-f8acadc960b3",
   "metadata": {},
   "source": [
    "How many bites are in each element of the array? Use `.itemsize` to check."
   ]
  },
  {
   "cell_type": "code",
   "execution_count": 22,
   "id": "38e0189f-932d-4c68-8020-d4f7ac8e74c2",
   "metadata": {},
   "outputs": [
    {
     "data": {
      "text/plain": [
       "8"
      ]
     },
     "execution_count": 22,
     "metadata": {},
     "output_type": "execute_result"
    }
   ],
   "source": [
    "array_3d.itemsize"
   ]
  },
  {
   "cell_type": "markdown",
   "id": "cb62bfcd-e67a-42ed-9980-1578002f9d3f",
   "metadata": {},
   "source": [
    "Create a 1D array of numbers 1-10 using `a = np.linspace(1, 10, 10)`. Reshape this to be 2x5 and print it."
   ]
  },
  {
   "cell_type": "code",
   "execution_count": 44,
   "id": "aacebcbe-ef1a-4813-bc35-a65b061c4f8b",
   "metadata": {},
   "outputs": [
    {
     "name": "stdout",
     "output_type": "stream",
     "text": [
      "[[1. 2. 3.]\n",
      " [4. 5. 6.]\n",
      " [7. 8. 9.]]\n"
     ]
    }
   ],
   "source": [
    "a = np.linspace(1, 9, 9).reshape(3,3)\n",
    "print(a)"
   ]
  },
  {
   "cell_type": "markdown",
   "id": "63700027-be94-4a47-9600-ef5ea449e1b4",
   "metadata": {},
   "source": [
    "What happens if you multiply your array by 2 using `b = a*2`"
   ]
  },
  {
   "cell_type": "code",
   "execution_count": 45,
   "id": "13b608bb-39cb-47cc-a97e-87c33cb4fe2a",
   "metadata": {},
   "outputs": [
    {
     "name": "stdout",
     "output_type": "stream",
     "text": [
      "[[ 2.  4.  6.]\n",
      " [ 8. 10. 12.]\n",
      " [14. 16. 18.]]\n"
     ]
    }
   ],
   "source": [
    "b = a*2\n",
    "# The array has been multiplied by two elementwise (not matrix multiplication)\n",
    "print(b)"
   ]
  },
  {
   "cell_type": "markdown",
   "id": "6ac2f29e-b42c-4e0b-9809-07938ae3aa5e",
   "metadata": {},
   "source": [
    "How do you do matrix multiplication? Try doing the matrix product of a and b."
   ]
  },
  {
   "cell_type": "code",
   "execution_count": 49,
   "id": "80b1fc56-e095-435c-b3c6-25afce442071",
   "metadata": {},
   "outputs": [
    {
     "name": "stdout",
     "output_type": "stream",
     "text": [
      "[[ 60.  72.  84.]\n",
      " [132. 162. 192.]\n",
      " [204. 252. 300.]]\n"
     ]
    }
   ],
   "source": [
    "# Either of these methods work\n",
    "matrix_product = a @ b\n",
    "matrix_product = a.dot(b)\n",
    "print(matrix_product)"
   ]
  },
  {
   "cell_type": "markdown",
   "id": "6b76ea97-318a-4bfd-964c-f72d85459f85",
   "metadata": {},
   "source": [
    "When performing operations between arrays of different data types, numpy automatically converts the result to the more precise type - this is called upcasting. Let's demonstrate this concept:\n",
    "- Create an array with 3 elements all set to one using `a = np.ones(3, dtype=np.int32)` and set the data type to np.int32\n",
    "- Create a float array of 3 elements evenly spaced between 0 and pi using `b = np.linspace(0, np.pi, 3)`. The data type will be float64 by default\n",
    "- Check the data type of both arrays\n",
    "- Add the arrays a and b to make a new array `c`. Print the resulting array c and its data type."
   ]
  },
  {
   "cell_type": "code",
   "execution_count": 58,
   "id": "8ec1bb60-82f6-4152-9e47-c1d45ab955b0",
   "metadata": {},
   "outputs": [
    {
     "data": {
      "text/plain": [
       "array([1.        , 2.57079633, 4.14159265])"
      ]
     },
     "execution_count": 58,
     "metadata": {},
     "output_type": "execute_result"
    }
   ],
   "source": [
    "a = np.ones(3, dtype=np.int32)\n",
    "b = np.linspace(0, np.pi, 3)\n",
    "c = a + b \n",
    "a.dtype #int32\n",
    "b.dtype #float64\n",
    "c.dtype #float64\n",
    "c"
   ]
  },
  {
   "cell_type": "markdown",
   "id": "b824fbf3-7184-45fc-8219-a50712941091",
   "metadata": {},
   "source": [
    "For matrix a in the previous question, what do you think `a.sum()` would be? Check your answer."
   ]
  },
  {
   "cell_type": "code",
   "execution_count": 61,
   "id": "91507ae1-8b08-45f1-bd8d-7fbeb5b9dd2c",
   "metadata": {},
   "outputs": [
    {
     "data": {
      "text/plain": [
       "3"
      ]
     },
     "execution_count": 61,
     "metadata": {},
     "output_type": "execute_result"
    }
   ],
   "source": [
    "# a.sum is the sum of all elements - a unary operation. `.sum()` is a method of the array class because you use it on the array.\n",
    "a.sum()"
   ]
  },
  {
   "cell_type": "markdown",
   "id": "f0fedf38-dff2-43df-8057-4998d7219e31",
   "metadata": {},
   "source": [
    "Create an array using `np.ones(6).reshape(3,2)`. If we only want to sum each column, how would we do that?"
   ]
  },
  {
   "cell_type": "code",
   "execution_count": 67,
   "id": "84d7b08c-5cfe-4662-b7c2-ee9a1fd5cf1d",
   "metadata": {},
   "outputs": [
    {
     "data": {
      "text/plain": [
       "array([3., 3.])"
      ]
     },
     "execution_count": 67,
     "metadata": {},
     "output_type": "execute_result"
    }
   ],
   "source": [
    "a = np.ones(6).reshape(3,2)\n",
    "a.sum(axis=0)"
   ]
  },
  {
   "cell_type": "markdown",
   "id": "7ad61bd7-8990-4721-9f35-84d990c1a965",
   "metadata": {
    "editable": true,
    "slideshow": {
     "slide_type": ""
    },
    "tags": []
   },
   "source": [
    "Create a 1D array of size 20 where each element is the cube of its index. We'll use this array in the next questions."
   ]
  },
  {
   "cell_type": "code",
   "execution_count": 1,
   "id": "dc0afa06-ef7d-4256-8f12-814844a23d24",
   "metadata": {
    "editable": true,
    "slideshow": {
     "slide_type": ""
    },
    "tags": []
   },
   "outputs": [],
   "source": [
    "import numpy as np\n",
    "a = np.arange(20) ** 3"
   ]
  },
  {
   "cell_type": "markdown",
   "id": "7b2b1a58-8c3e-480f-950a-ccf3a813b8cd",
   "metadata": {
    "editable": true,
    "slideshow": {
     "slide_type": ""
    },
    "tags": []
   },
   "source": [
    "Print the 5th element of a. Hint: your answer should be 64 - remember where we start indexing."
   ]
  },
  {
   "cell_type": "code",
   "execution_count": 4,
   "id": "f50807ff-0025-4e89-8a17-1ea2988cc367",
   "metadata": {
    "editable": true,
    "slideshow": {
     "slide_type": ""
    },
    "tags": []
   },
   "outputs": [
    {
     "data": {
      "text/plain": [
       "64"
      ]
     },
     "execution_count": 4,
     "metadata": {},
     "output_type": "execute_result"
    }
   ],
   "source": [
    "a[4]"
   ]
  },
  {
   "cell_type": "markdown",
   "id": "8793e6ef-144a-440f-aa9e-5b49dc4a583d",
   "metadata": {},
   "source": [
    "Slice the array to get elements from index 3 to index 7 (inclusive)."
   ]
  },
  {
   "cell_type": "code",
   "execution_count": 6,
   "id": "7c45834d-1a39-4037-9bf1-ca97c8dab09d",
   "metadata": {},
   "outputs": [
    {
     "data": {
      "text/plain": [
       "array([ 27,  64, 125, 216, 343])"
      ]
     },
     "execution_count": 6,
     "metadata": {},
     "output_type": "execute_result"
    }
   ],
   "source": [
    "a[3:8]"
   ]
  },
  {
   "cell_type": "markdown",
   "id": "3be02020-6449-4a8c-a1f6-bf6fafb6ec12",
   "metadata": {},
   "source": [
    "Change every 3rd element to -1. This should give: `[ -1, 1, 8, -1, 64, 125, -1, ... ]`"
   ]
  },
  {
   "cell_type": "code",
   "execution_count": 7,
   "id": "f16bfe38-1f6f-47fd-a7f2-2a9da0333a8b",
   "metadata": {},
   "outputs": [
    {
     "data": {
      "text/plain": [
       "array([  -1,    1,    8,   -1,   64,  125,   -1,  343,  512,   -1, 1000,\n",
       "       1331,   -1, 2197, 2744, 3375, 4096, 4913, 5832, 6859])"
      ]
     },
     "execution_count": 7,
     "metadata": {},
     "output_type": "execute_result"
    }
   ],
   "source": [
    "a[:15:3] = -1\n",
    "a"
   ]
  },
  {
   "cell_type": "markdown",
   "id": "eb80452e-cd4f-4971-825d-86cb4747d9da",
   "metadata": {},
   "source": [
    "Reverse the array and print the result."
   ]
  },
  {
   "cell_type": "code",
   "execution_count": 8,
   "id": "169e63ce-9d74-4a35-b386-d2bd07bad3a7",
   "metadata": {},
   "outputs": [
    {
     "data": {
      "text/plain": [
       "array([6859, 5832, 4913, 4096, 3375, 2744, 2197,   -1, 1331, 1000,   -1,\n",
       "        512,  343,   -1,  125,   64,   -1,    8,    1,   -1])"
      ]
     },
     "execution_count": 8,
     "metadata": {},
     "output_type": "execute_result"
    }
   ],
   "source": [
    "reversed_a = a[::-1]\n",
    "reversed_a"
   ]
  },
  {
   "cell_type": "markdown",
   "id": "1cd5271c-8a90-49ae-979b-d89575491b01",
   "metadata": {},
   "source": [
    "Create a 3x4 numpy array `b` using `b = np.array([[2 * i + j for j in range(4)] for i in range(3)])`."
   ]
  },
  {
   "cell_type": "code",
   "execution_count": 11,
   "id": "5536dff6-d6c2-4dab-a4e6-869629e0edeb",
   "metadata": {},
   "outputs": [
    {
     "name": "stdout",
     "output_type": "stream",
     "text": [
      "[[0 1 2 3]\n",
      " [2 3 4 5]\n",
      " [4 5 6 7]]\n"
     ]
    }
   ],
   "source": [
    "b = np.array([[2 * i + j for j in range(4)] for i in range(3)])\n",
    "print(b)"
   ]
  },
  {
   "cell_type": "markdown",
   "id": "3983a14f-de1d-490b-b6fd-4f4d7eda14fb",
   "metadata": {},
   "source": [
    "Print the element in the second row and third column. This should be 4."
   ]
  },
  {
   "cell_type": "code",
   "execution_count": 12,
   "id": "a734ee36-b794-4260-808c-575518b4a34e",
   "metadata": {},
   "outputs": [
    {
     "data": {
      "text/plain": [
       "4"
      ]
     },
     "execution_count": 12,
     "metadata": {},
     "output_type": "execute_result"
    }
   ],
   "source": [
    "b[1,2]"
   ]
  },
  {
   "cell_type": "markdown",
   "id": "3e4d5ba7-1abe-4285-bd7b-29bca9febbf1",
   "metadata": {},
   "source": [
    "Extract and print the second column as a 1D array."
   ]
  },
  {
   "cell_type": "code",
   "execution_count": 14,
   "id": "e190b233-124d-40c3-b928-c66f015217df",
   "metadata": {},
   "outputs": [
    {
     "data": {
      "text/plain": [
       "array([1, 3, 5])"
      ]
     },
     "execution_count": 14,
     "metadata": {},
     "output_type": "execute_result"
    }
   ],
   "source": [
    "second_col = b[:, 1]\n",
    "second_col"
   ]
  },
  {
   "cell_type": "markdown",
   "id": "24b839b8-a010-4bd5-afdc-f7046c7acc26",
   "metadata": {},
   "source": [
    "Extract and print a sub-array containing the last two rows."
   ]
  },
  {
   "cell_type": "code",
   "execution_count": 15,
   "id": "6efa59b9-0bc1-4a8b-ae32-4ffbe75512cb",
   "metadata": {},
   "outputs": [
    {
     "data": {
      "text/plain": [
       "array([[2, 3, 4, 5],\n",
       "       [4, 5, 6, 7]])"
      ]
     },
     "execution_count": 15,
     "metadata": {},
     "output_type": "execute_result"
    }
   ],
   "source": [
    "sub_array = b[1:3, :]\n",
    "sub_array"
   ]
  },
  {
   "cell_type": "markdown",
   "id": "d4fb0210-2031-4435-bdae-b567a6010c42",
   "metadata": {},
   "source": [
    "Use slicing to replace the last row with the values `[7, 7, 7, 7]`."
   ]
  },
  {
   "cell_type": "code",
   "execution_count": 16,
   "id": "d2e59188-020a-4c03-a373-9d50b0def22f",
   "metadata": {},
   "outputs": [
    {
     "data": {
      "text/plain": [
       "array([[0, 1, 2, 3],\n",
       "       [2, 3, 4, 5],\n",
       "       [7, 7, 7, 7]])"
      ]
     },
     "execution_count": 16,
     "metadata": {},
     "output_type": "execute_result"
    }
   ],
   "source": [
    "b[2, :] = [7, 7, 7, 7]\n",
    "b"
   ]
  },
  {
   "cell_type": "markdown",
   "id": "161545bc-06dd-40cb-b598-36de4f5378e3",
   "metadata": {},
   "source": [
    "Iterate over the elements of the array using the `.flat` attribute and print them."
   ]
  },
  {
   "cell_type": "code",
   "execution_count": 17,
   "id": "78081cb7-6c73-466b-a736-1aca4c652f49",
   "metadata": {},
   "outputs": [
    {
     "name": "stdout",
     "output_type": "stream",
     "text": [
      "0\n",
      "1\n",
      "2\n",
      "3\n",
      "2\n",
      "3\n",
      "4\n",
      "5\n",
      "7\n",
      "7\n",
      "7\n",
      "7\n"
     ]
    }
   ],
   "source": [
    "for element in b.flat:\n",
    "    print(element)"
   ]
  },
  {
   "cell_type": "markdown",
   "id": "0ea93892-c626-4e4e-b91c-763daf6bb7e1",
   "metadata": {},
   "source": [
    "Create a 3D array `c` using `c = np.array([[[i * 10 + j * 5 + k for k in range(4)] for j in range(3)] for i in range(2)])`"
   ]
  },
  {
   "cell_type": "code",
   "execution_count": 19,
   "id": "15632b1d-f44e-4a1e-9efb-e6fde75e266b",
   "metadata": {},
   "outputs": [
    {
     "data": {
      "text/plain": [
       "array([[[ 0,  1,  2,  3],\n",
       "        [ 5,  6,  7,  8],\n",
       "        [10, 11, 12, 13]],\n",
       "\n",
       "       [[10, 11, 12, 13],\n",
       "        [15, 16, 17, 18],\n",
       "        [20, 21, 22, 23]]])"
      ]
     },
     "execution_count": 19,
     "metadata": {},
     "output_type": "execute_result"
    }
   ],
   "source": [
    "c = np.array([[[i * 10 + j * 5 + k for k in range(4)] for j in range(3)] for i in range(2)])\n",
    "c"
   ]
  },
  {
   "cell_type": "markdown",
   "id": "d48d62f7-5ccc-4dc6-a441-cac5ebc4cb10",
   "metadata": {},
   "source": [
    "Print all elements of the first layer of the array."
   ]
  },
  {
   "cell_type": "code",
   "execution_count": 21,
   "id": "53d8f855-bba0-40a4-aeba-2b719b87b363",
   "metadata": {},
   "outputs": [
    {
     "data": {
      "text/plain": [
       "array([[ 0,  1,  2,  3],\n",
       "       [ 5,  6,  7,  8],\n",
       "       [10, 11, 12, 13]])"
      ]
     },
     "execution_count": 21,
     "metadata": {},
     "output_type": "execute_result"
    }
   ],
   "source": [
    "c[0]"
   ]
  },
  {
   "cell_type": "markdown",
   "id": "96fcfb26-8c72-476b-b030-9e1f61a143ab",
   "metadata": {},
   "source": [
    "Use `...` to print the last element of each 1D array contained within c."
   ]
  },
  {
   "cell_type": "code",
   "execution_count": 22,
   "id": "59fcba5b-3772-4326-9f82-da576e8e6f5d",
   "metadata": {},
   "outputs": [
    {
     "data": {
      "text/plain": [
       "array([[ 3,  8, 13],\n",
       "       [13, 18, 23]])"
      ]
     },
     "execution_count": 22,
     "metadata": {},
     "output_type": "execute_result"
    }
   ],
   "source": [
    "c[..., -1]"
   ]
  },
  {
   "cell_type": "markdown",
   "id": "c96b71dd-bb47-41aa-9403-cc51f660aa0d",
   "metadata": {},
   "source": [
    "Modify the first column of the second layer to `[0, 0, 0]`"
   ]
  },
  {
   "cell_type": "code",
   "execution_count": 24,
   "id": "495e40c1-5584-4e58-9db3-70b380b1fae5",
   "metadata": {},
   "outputs": [
    {
     "data": {
      "text/plain": [
       "array([[[ 0,  1,  2,  3],\n",
       "        [ 5,  6,  7,  8],\n",
       "        [10, 11, 12, 13]],\n",
       "\n",
       "       [[ 0, 11, 12, 13],\n",
       "        [ 0, 16, 17, 18],\n",
       "        [ 0, 21, 22, 23]]])"
      ]
     },
     "execution_count": 24,
     "metadata": {},
     "output_type": "execute_result"
    }
   ],
   "source": [
    "c[1, :, 0] = [0, 0, 0]\n",
    "c"
   ]
  },
  {
   "cell_type": "markdown",
   "id": "79f773e8-ab4e-4273-b398-b1a6f5682677",
   "metadata": {},
   "source": [
    "## 2. Shape manipulation"
   ]
  },
  {
   "cell_type": "markdown",
   "id": "cd1acbc5-e753-4ecf-be09-b8217e0e9dbd",
   "metadata": {},
   "source": [
    "Use the following to create a 3x4 array: \n",
    "```\n",
    "rg = np.random.default_rng(1)\n",
    "a = np.floor(10 * rg.random((3, 4)))\n",
    "```"
   ]
  },
  {
   "cell_type": "code",
   "execution_count": 10,
   "id": "d64e77ed-7f81-41a1-a13d-8a41e91a034b",
   "metadata": {},
   "outputs": [
    {
     "data": {
      "text/plain": [
       "array([[5., 9., 1., 9.],\n",
       "       [3., 4., 8., 4.],\n",
       "       [5., 0., 7., 5.]])"
      ]
     },
     "execution_count": 10,
     "metadata": {},
     "output_type": "execute_result"
    }
   ],
   "source": [
    "import numpy as np\n",
    "rg = np.random.default_rng(1)\n",
    "a = np.floor(10 * rg.random((3, 4)))\n",
    "a"
   ]
  },
  {
   "cell_type": "markdown",
   "id": "ddfc3920-9dd2-4190-9b5f-f76f3e5f1219",
   "metadata": {},
   "source": [
    "Use the `ravel` method to flatten the array and print it."
   ]
  },
  {
   "cell_type": "code",
   "execution_count": 6,
   "id": "6eab2e43-a9c4-4256-91a3-df82d0849bda",
   "metadata": {},
   "outputs": [
    {
     "data": {
      "text/plain": [
       "array([5., 9., 1., 9., 3., 4., 8., 4., 5., 0., 7., 5.])"
      ]
     },
     "execution_count": 6,
     "metadata": {},
     "output_type": "execute_result"
    }
   ],
   "source": [
    "a.ravel()"
   ]
  },
  {
   "cell_type": "markdown",
   "id": "46aa3307-2e70-49ca-897b-fbb145dc491f",
   "metadata": {},
   "source": [
    "Reshape the array so it has the shape (2,6) and print it."
   ]
  },
  {
   "cell_type": "code",
   "execution_count": 16,
   "id": "08c440eb-e36d-4c36-a0b1-ce13eb69ced1",
   "metadata": {},
   "outputs": [
    {
     "data": {
      "text/plain": [
       "array([[5., 9., 1., 9., 3., 4.],\n",
       "       [8., 4., 5., 0., 7., 5.]])"
      ]
     },
     "execution_count": 16,
     "metadata": {},
     "output_type": "execute_result"
    }
   ],
   "source": [
    "b = a.reshape(2, 6)\n",
    "b"
   ]
  },
  {
   "cell_type": "markdown",
   "id": "871ec8bf-9b81-4a6e-8ccd-610caf9fa95b",
   "metadata": {},
   "source": [
    "Transpose the array and print it."
   ]
  },
  {
   "cell_type": "code",
   "execution_count": 17,
   "id": "cbb84be3-d249-4de3-b0c9-3da212df4511",
   "metadata": {},
   "outputs": [
    {
     "data": {
      "text/plain": [
       "array([[5., 8.],\n",
       "       [9., 4.],\n",
       "       [1., 5.],\n",
       "       [9., 0.],\n",
       "       [3., 7.],\n",
       "       [4., 5.]])"
      ]
     },
     "execution_count": 17,
     "metadata": {},
     "output_type": "execute_result"
    }
   ],
   "source": [
    "c = a.T\n",
    "c"
   ]
  },
  {
   "cell_type": "markdown",
   "id": "12ab14e8-3b5e-4d39-aeb3-2acd0fbe8949",
   "metadata": {},
   "source": [
    "Use the resize method to change the shape of the array to (6,2). Notice the difference between reshape and resize."
   ]
  },
  {
   "cell_type": "code",
   "execution_count": 18,
   "id": "cee3a45f-2f26-422a-871c-090cfcf29749",
   "metadata": {},
   "outputs": [
    {
     "data": {
      "text/plain": [
       "array([[5., 9.],\n",
       "       [1., 9.],\n",
       "       [3., 4.],\n",
       "       [8., 4.],\n",
       "       [5., 0.],\n",
       "       [7., 5.]])"
      ]
     },
     "execution_count": 18,
     "metadata": {},
     "output_type": "execute_result"
    }
   ],
   "source": [
    "# reshape returns the argument with a modified shape but resize modifies the array itself\n",
    "a.resize(6,2)\n",
    "a"
   ]
  },
  {
   "cell_type": "markdown",
   "id": "d39e2df9-f9d0-4d49-9d34-258ded03dc75",
   "metadata": {},
   "source": [
    "Reshape the array to a shape of (3, -1) and print the reshaped array. Note what -1 does here."
   ]
  },
  {
   "cell_type": "code",
   "execution_count": 19,
   "id": "9cd095eb-279a-4c79-a333-76ce4f63f761",
   "metadata": {},
   "outputs": [
    {
     "data": {
      "text/plain": [
       "array([[5., 9., 1., 9.],\n",
       "       [3., 4., 8., 4.],\n",
       "       [5., 0., 7., 5.]])"
      ]
     },
     "execution_count": 19,
     "metadata": {},
     "output_type": "execute_result"
    }
   ],
   "source": [
    "d =a.reshape(3, -1)\n",
    "d"
   ]
  },
  {
   "cell_type": "code",
   "execution_count": null,
   "id": "7197bcf1-be1a-4409-bd68-89522dae0a51",
   "metadata": {},
   "outputs": [],
   "source": []
  },
  {
   "cell_type": "code",
   "execution_count": null,
   "id": "8271432e-df7d-4278-ab64-8363e1544f6f",
   "metadata": {},
   "outputs": [],
   "source": []
  },
  {
   "cell_type": "code",
   "execution_count": null,
   "id": "972ad98c-1851-4710-8009-4cae27e75ea6",
   "metadata": {},
   "outputs": [],
   "source": []
  },
  {
   "cell_type": "markdown",
   "id": "288fc0f9-7014-4d9b-9b02-475b9c99d4e7",
   "metadata": {},
   "source": [
    "## 3. Copies and views"
   ]
  },
  {
   "cell_type": "code",
   "execution_count": null,
   "id": "182c4af3-c08d-40f2-a08b-4b3fe427b155",
   "metadata": {},
   "outputs": [],
   "source": []
  },
  {
   "cell_type": "markdown",
   "id": "5e6e8f7e-6d3b-4405-bc1c-4afa9d6188d4",
   "metadata": {},
   "source": [
    "## 4. Advanced"
   ]
  },
  {
   "cell_type": "code",
   "execution_count": null,
   "id": "dc6e841f-074d-4d8d-9f6e-63e4f2032ff1",
   "metadata": {},
   "outputs": [],
   "source": []
  }
 ],
 "metadata": {
  "kernelspec": {
   "display_name": "Python 3 + Jaspy",
   "language": "python",
   "name": "jaspy"
  },
  "language_info": {
   "codemirror_mode": {
    "name": "ipython",
    "version": 3
   },
   "file_extension": ".py",
   "mimetype": "text/x-python",
   "name": "python",
   "nbconvert_exporter": "python",
   "pygments_lexer": "ipython3",
   "version": "3.11.9"
  }
 },
 "nbformat": 4,
 "nbformat_minor": 5
}
