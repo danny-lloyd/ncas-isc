{
 "cells": [
  {
   "cell_type": "markdown",
   "id": "e2574b49-2028-4bdf-a012-60d339dca6ac",
   "metadata": {},
   "source": [
    "# Exercise 5: matplotlib"
   ]
  },
  {
   "cell_type": "markdown",
   "id": "4c39c2af-dc7c-4905-8535-f7280c4e9a37",
   "metadata": {},
   "source": [
    "## Aim: Get to grips with how to create plots and customise them with matplotlib"
   ]
  },
  {
   "cell_type": "markdown",
   "id": "10599a64-226b-4789-89c1-093f0564bedf",
   "metadata": {},
   "source": [
    "### Issues covered:\n",
    "\n",
    "- Creating plots\n",
    "- Parts of a figure\n",
    "- Styling the colours, linestyles, linewidths, markersizes etc\n",
    "- Labelling plots: axis labels, titles, annotations and legends\n",
    "- Axes properties: scales, ticks, plotting dates and strings\n",
    "- Multiple figures, multiple axes,\n",
    "- Colour-mapped data: colormaps, colorbars, normalizations"
   ]
  },
  {
   "cell_type": "markdown",
   "id": "f3612836-233d-479f-a2a8-e7ed99dc1133",
   "metadata": {},
   "source": [
    "## 1. Simple example"
   ]
  },
  {
   "cell_type": "markdown",
   "id": "6bc7192f-0962-4168-b6c6-5fd44daa24b2",
   "metadata": {},
   "source": [
    "1. Let's create some sample data to plot. Create an array called xaxis with the value [1,2,3,4,5] and an array called yaxis with the value [2, 16, 4, 8, 7]. Plot this data on a single axes. Don't forget to import matplotlib!"
   ]
  },
  {
   "cell_type": "code",
   "execution_count": 1,
   "id": "df631937-9c0c-4453-80f0-c44da68ac71a",
   "metadata": {
    "editable": true,
    "execution": {
     "iopub.execute_input": "2024-10-15T12:48:58.491531Z",
     "iopub.status.busy": "2024-10-15T12:48:58.491225Z",
     "iopub.status.idle": "2024-10-15T12:49:00.915527Z",
     "shell.execute_reply": "2024-10-15T12:49:00.914955Z"
    },
    "slideshow": {
     "slide_type": ""
    },
    "tags": [
     "clear_answer_cell"
    ]
   },
   "outputs": [],
   "source": []
  },
  {
   "cell_type": "markdown",
   "id": "5a84dc80-d94a-4440-8806-c51a2fbf9077",
   "metadata": {},
   "source": [
    "## 2. Parts of a figure"
   ]
  },
  {
   "cell_type": "markdown",
   "id": "9cfacc0a-5af7-4912-b79e-0ac0743e20e5",
   "metadata": {},
   "source": [
    "2. Create 6 empty plots in a 2x3 grid."
   ]
  },
  {
   "cell_type": "code",
   "execution_count": 2,
   "id": "71cd4946-e8bd-40b0-9d21-c7a6fedb11bd",
   "metadata": {
    "editable": true,
    "execution": {
     "iopub.execute_input": "2024-10-15T12:49:00.920580Z",
     "iopub.status.busy": "2024-10-15T12:49:00.919911Z",
     "iopub.status.idle": "2024-10-15T12:49:01.615281Z",
     "shell.execute_reply": "2024-10-15T12:49:01.614479Z"
    },
    "slideshow": {
     "slide_type": ""
    },
    "tags": [
     "clear_answer_cell"
    ]
   },
   "outputs": [],
   "source": []
  },
  {
   "cell_type": "markdown",
   "id": "f2e84578-b714-46db-b276-9e11029552dc",
   "metadata": {},
   "source": [
    "## 3. Types of inputs to plotting functions"
   ]
  },
  {
   "cell_type": "markdown",
   "id": "97d9019c-750c-4a23-b023-2c9ed472f154",
   "metadata": {},
   "source": [
    "3. Some inputs won't work as intended. Create a pandas dataframe as follows: \n",
    "\n",
    "```\n",
    "df = pd.DataFrame({\n",
    "    'A': [1, 2, 3, 4],\n",
    "    'B': [4, 5, 6, 7],\n",
    "    'C': ['a', 'b', 'c', 'd']\n",
    "})\n",
    "```\n",
    "Try plotting the dataframe directly. Do you know why there is an error?"
   ]
  },
  {
   "cell_type": "code",
   "execution_count": 3,
   "id": "e15026a5-a78f-4033-bc80-017e539f7d64",
   "metadata": {
    "editable": true,
    "execution": {
     "iopub.execute_input": "2024-10-15T12:49:01.621841Z",
     "iopub.status.busy": "2024-10-15T12:49:01.621093Z",
     "iopub.status.idle": "2024-10-15T12:49:05.203097Z",
     "shell.execute_reply": "2024-10-15T12:49:05.202332Z"
    },
    "slideshow": {
     "slide_type": ""
    },
    "tags": [
     "clear_answer_cell",
     "allow_errors"
    ]
   },
   "outputs": [],
   "source": []
  },
  {
   "cell_type": "markdown",
   "id": "8d0a5420-bd47-4771-aebb-125ab192f458",
   "metadata": {},
   "source": [
    "4. We need to extract only the numeric values to plot. Let's extract them as a numpy array and try again. Use `np.asarray(df[['A', 'B']])` to create a numpy array from the numeric data. Try plotting it now."
   ]
  },
  {
   "cell_type": "code",
   "execution_count": 4,
   "id": "58bf6119-5e1a-45af-8e3a-03ed80d381a5",
   "metadata": {
    "editable": true,
    "execution": {
     "iopub.execute_input": "2024-10-15T12:49:05.207112Z",
     "iopub.status.busy": "2024-10-15T12:49:05.206788Z",
     "iopub.status.idle": "2024-10-15T12:49:05.413884Z",
     "shell.execute_reply": "2024-10-15T12:49:05.413219Z"
    },
    "slideshow": {
     "slide_type": ""
    },
    "tags": [
     "clear_answer_cell"
    ]
   },
   "outputs": [],
   "source": []
  },
  {
   "cell_type": "markdown",
   "id": "43bcbb06-d568-4091-a7a3-1e6ab4db0358",
   "metadata": {},
   "source": [
    "5. Let's unpack the example given in the tutorial of using matplotlib with string-indexable objects. Instead of passing numpy arrays directly, we'll pass the names of the variables as strings.\n",
    "\n",
    "Let's start by creating the dictionary. Create a variable called data using the following: \n",
    "```\n",
    "data = {'a': np.arange(50),\n",
    "        'c': np.random.randint(0, 50, 50),\n",
    "        'd': np.random.randn(50)}\n",
    "```\n",
    "Here, a is a numpy array of integers from 0 to 49, c is random integers between 0 and 50 we can use as the colour, and d is the absolute value of randomly generated numbers which we will use as the size of each scatter point."
   ]
  },
  {
   "cell_type": "code",
   "execution_count": 5,
   "id": "e0bb152c-7a3e-4cfa-9dce-49e19ed62d81",
   "metadata": {
    "editable": true,
    "execution": {
     "iopub.execute_input": "2024-10-15T12:49:05.420384Z",
     "iopub.status.busy": "2024-10-15T12:49:05.419869Z",
     "iopub.status.idle": "2024-10-15T12:49:05.428816Z",
     "shell.execute_reply": "2024-10-15T12:49:05.427171Z"
    },
    "slideshow": {
     "slide_type": ""
    },
    "tags": [
     "clear_answer_cell"
    ]
   },
   "outputs": [],
   "source": []
  },
  {
   "cell_type": "markdown",
   "id": "3f7e62b6-a421-4236-b967-b6c4d3ca69d9",
   "metadata": {},
   "source": [
    "6. Let's add to our dictionary. Give `data['b']` the value `data['a'] + 10 * np.random.randn(50)`. This is essentially just a noisy version of 'a'. Then edit `data['d']` to be `np.abs(data['d']) * 100` which is just scaling 'd' to be larger."
   ]
  },
  {
   "cell_type": "code",
   "execution_count": 6,
   "id": "7bc6235a-eb41-4ba2-b2c2-66230aefbdb4",
   "metadata": {
    "editable": true,
    "execution": {
     "iopub.execute_input": "2024-10-15T12:49:05.437493Z",
     "iopub.status.busy": "2024-10-15T12:49:05.436762Z",
     "iopub.status.idle": "2024-10-15T12:49:05.444160Z",
     "shell.execute_reply": "2024-10-15T12:49:05.442921Z"
    },
    "slideshow": {
     "slide_type": ""
    },
    "tags": [
     "clear_answer_cell"
    ]
   },
   "outputs": [],
   "source": []
  },
  {
   "cell_type": "markdown",
   "id": "7b134722-61be-4a98-88d7-d77a8494a4ba",
   "metadata": {},
   "source": [
    "7. Now we can plot the scatter plot using the syntax `ax.scatter(xvalues, yvalues, c=colours, s=scatter_point_size, data=data). Hint: the x and y data is 'a' and 'b' and you should know what the colour and size is."
   ]
  },
  {
   "cell_type": "code",
   "execution_count": 7,
   "id": "426530f4-83b2-4c26-813b-8fdbe529ef88",
   "metadata": {
    "editable": true,
    "execution": {
     "iopub.execute_input": "2024-10-15T12:49:05.449860Z",
     "iopub.status.busy": "2024-10-15T12:49:05.448821Z",
     "iopub.status.idle": "2024-10-15T12:49:05.659380Z",
     "shell.execute_reply": "2024-10-15T12:49:05.658184Z"
    },
    "slideshow": {
     "slide_type": ""
    },
    "tags": [
     "clear_answer_cell"
    ]
   },
   "outputs": [],
   "source": []
  },
  {
   "cell_type": "markdown",
   "id": "b057c40a-511b-43ba-840a-bae423a697e9",
   "metadata": {},
   "source": [
    "## 4. Coding styles"
   ]
  },
  {
   "cell_type": "markdown",
   "id": "ce3d4439-773f-4a61-8556-9967942f7300",
   "metadata": {},
   "source": [
    "8. So far, we've been creating plots in the object oriented way: explicitly creating figures and axes. The pyplot-style is very subtly different - we just don't need to create the axis or subplots. Create x axis data using `np.linspace(min, max, num)`. Create 10 values between 0 and 10. Create y axis data using `np.linspace` to create 10 values between 0 and 100. Plot this data on the implicit axes using `plt.plot()` - don't worry about seeting the figsize and layout."
   ]
  },
  {
   "cell_type": "code",
   "execution_count": 8,
   "id": "3467e2c1-ab23-43ac-9bf0-3b34852d87f5",
   "metadata": {
    "editable": true,
    "execution": {
     "iopub.execute_input": "2024-10-15T12:49:05.665400Z",
     "iopub.status.busy": "2024-10-15T12:49:05.664789Z",
     "iopub.status.idle": "2024-10-15T12:49:05.825079Z",
     "shell.execute_reply": "2024-10-15T12:49:05.823469Z"
    },
    "slideshow": {
     "slide_type": ""
    },
    "tags": [
     "clear_answer_cell"
    ]
   },
   "outputs": [],
   "source": []
  },
  {
   "cell_type": "markdown",
   "id": "8f6ba121-ea31-441c-8ac6-83ad85605684",
   "metadata": {},
   "source": [
    "## 5. Styling"
   ]
  },
  {
   "cell_type": "markdown",
   "id": "1d18ed69-464a-4f6f-af12-4b43de5fb010",
   "metadata": {},
   "source": [
    "9. Let's use the x and y values from before and create some new y values to practice styling plots. Create `y2 = np.linspace(0, -100, 10)`. Plot both of these sets of data on the same axes using the Styling Artists example. Plot the original y data in purple with the -- linestyle and the new y data in green with the : linestyle. What other values can you give for linestyle? Try editing them to be any character you want and see what happens! Can you make the lines thicker?"
   ]
  },
  {
   "cell_type": "code",
   "execution_count": 9,
   "id": "30c1faed-af70-4784-9c82-0c6758d2083a",
   "metadata": {
    "editable": true,
    "execution": {
     "iopub.execute_input": "2024-10-15T12:49:05.832791Z",
     "iopub.status.busy": "2024-10-15T12:49:05.831469Z",
     "iopub.status.idle": "2024-10-15T12:49:06.042444Z",
     "shell.execute_reply": "2024-10-15T12:49:06.041251Z"
    },
    "slideshow": {
     "slide_type": ""
    },
    "tags": [
     "clear_answer_cell"
    ]
   },
   "outputs": [],
   "source": []
  },
  {
   "cell_type": "markdown",
   "id": "d3bba7b2-208b-4927-a246-b1ff18cadbf9",
   "metadata": {},
   "source": [
    "10. There are lots of different customisation options in matplotlib for colour! You can even have different colours for the markers and outlines in a scatter plot. Use the following to generate some data for a scatter plot:\n",
    "```\n",
    "data1, data2 = np.random.randn(2,100)\n",
    "```\n",
    "Plot this data as an `ax.scatter` plot, using a magenta outline with a green marker. Hint: you'll need to visit the [allowable color definitions](https://matplotlib.org/stable/users/explain/colors/colors.html#colors-def) page to see how colours are defined."
   ]
  },
  {
   "cell_type": "code",
   "execution_count": 10,
   "id": "0746263b-80fb-4e68-a215-34872daff4f8",
   "metadata": {
    "editable": true,
    "execution": {
     "iopub.execute_input": "2024-10-15T12:49:06.048170Z",
     "iopub.status.busy": "2024-10-15T12:49:06.047551Z",
     "iopub.status.idle": "2024-10-15T12:49:06.273166Z",
     "shell.execute_reply": "2024-10-15T12:49:06.272438Z"
    },
    "slideshow": {
     "slide_type": ""
    },
    "tags": [
     "clear_answer_cell"
    ]
   },
   "outputs": [],
   "source": []
  },
  {
   "cell_type": "markdown",
   "id": "e1308dc3-fc3c-4a49-a762-3fdb0a54eff4",
   "metadata": {},
   "source": [
    "11. Generate two more scatter plot datasets as we did above then plot all 4 on one graph. Give each dataset a label and a different marker style - e.g. stars ('*'), plus (\"P\") or diamonds (\"D\"). You can see more options for markers [in the documentation](https://matplotlib.org/stable/gallery/lines_bars_and_markers/marker_reference.html)."
   ]
  },
  {
   "cell_type": "code",
   "execution_count": 11,
   "id": "0658cc3b-c291-404a-b446-a388edfef3d4",
   "metadata": {
    "editable": true,
    "execution": {
     "iopub.execute_input": "2024-10-15T12:49:06.276118Z",
     "iopub.status.busy": "2024-10-15T12:49:06.275793Z",
     "iopub.status.idle": "2024-10-15T12:49:06.484217Z",
     "shell.execute_reply": "2024-10-15T12:49:06.483662Z"
    },
    "slideshow": {
     "slide_type": ""
    },
    "tags": [
     "clear_answer_cell"
    ]
   },
   "outputs": [],
   "source": []
  },
  {
   "cell_type": "markdown",
   "id": "007ed496-b9c6-4c28-84b3-fa72264bb9e4",
   "metadata": {},
   "source": [
    "## 6. Labelling"
   ]
  },
  {
   "cell_type": "markdown",
   "id": "a912305e-861a-428b-8223-9d245004baf7",
   "metadata": {},
   "source": [
    "12. Take the plot we just used and give it x label, y label and a title. Add some text to the plot saying 'text' right in the middle. Add an annotation at top saying 'some annotation' with a black arrow pointing to some data. Also add a legend identifying each data set."
   ]
  },
  {
   "cell_type": "code",
   "execution_count": 12,
   "id": "2de354bb-2ef6-4c1a-a7d4-ec408a0e444e",
   "metadata": {
    "editable": true,
    "execution": {
     "iopub.execute_input": "2024-10-15T12:49:06.487816Z",
     "iopub.status.busy": "2024-10-15T12:49:06.487530Z",
     "iopub.status.idle": "2024-10-15T12:49:07.088964Z",
     "shell.execute_reply": "2024-10-15T12:49:07.088270Z"
    },
    "slideshow": {
     "slide_type": ""
    },
    "tags": [
     "clear_answer_cell"
    ]
   },
   "outputs": [],
   "source": []
  },
  {
   "cell_type": "markdown",
   "id": "59e3abfd-3389-4ee9-87be-029af1fce401",
   "metadata": {},
   "source": [
    "## 7. Axes"
   ]
  },
  {
   "cell_type": "markdown",
   "id": "27c4fc57-9ca3-442b-a62b-469a5f7d73c5",
   "metadata": {},
   "source": [
    "13. Let's practice plotting some log scale data. Create the xdata using `xdata = np.arange(5)`. Create the ydata using `ydata = np.array([0.1, 0.5, 1, 5, 10])`. Transform the y data by raising it to the power of 10 using `ydata = 10**ydata`. Plot two suplots - plot the x and y data in both plots. Set the y-axis of the second subplot to a logairthmic scale. Try experimenting with different datasets by changing the values in ydata. Try changing the base of the log scale - e.g. using base=2."
   ]
  },
  {
   "cell_type": "code",
   "execution_count": 13,
   "id": "8749ab24-0c45-4935-90e2-3df1186cf611",
   "metadata": {
    "editable": true,
    "execution": {
     "iopub.execute_input": "2024-10-15T12:49:07.094584Z",
     "iopub.status.busy": "2024-10-15T12:49:07.094296Z",
     "iopub.status.idle": "2024-10-15T12:49:07.611547Z",
     "shell.execute_reply": "2024-10-15T12:49:07.610793Z"
    },
    "slideshow": {
     "slide_type": ""
    },
    "tags": [
     "clear_answer_cell"
    ]
   },
   "outputs": [],
   "source": []
  },
  {
   "cell_type": "markdown",
   "id": "447fc1f2-81e1-4034-bbcb-b00d57ab88b3",
   "metadata": {},
   "source": [
    "14. To demonstrate the difference between automatic and manual ticks, let's create two subplots. Follow the folliwng steps:\n",
    "\n",
    "- Create some data using `xdata = np.linspace(0, 99, 100)`, and `ydata = np.sin(xdata / 10)`\n",
    "- Create a figure with 2 subplots arranged vertically.\n",
    "- For the first subplot, plot the data and allow matplotlib to automatically place the ticks on the y and x axes\n",
    "- For the second subplot, manually set the x-axis ticks at intervals of 30 using `np.arange(0,100,30)`, provide custom labels for these x-ticks using `('zero', '30', 'sixty', '90')` and manually set the yaxis ticks at `[-1.5, 0, 1.5]` without specifying labels so that default labels are used.\n",
    "- Add titles to both subplots to distinguish between automatic and manual ticks."
   ]
  },
  {
   "cell_type": "code",
   "execution_count": 14,
   "id": "886e54a6-54e6-47fd-bec2-74c1eded9274",
   "metadata": {
    "editable": true,
    "execution": {
     "iopub.execute_input": "2024-10-15T12:49:07.616861Z",
     "iopub.status.busy": "2024-10-15T12:49:07.616659Z",
     "iopub.status.idle": "2024-10-15T12:49:08.111834Z",
     "shell.execute_reply": "2024-10-15T12:49:08.111234Z"
    },
    "slideshow": {
     "slide_type": ""
    },
    "tags": [
     "clear_answer_cell"
    ]
   },
   "outputs": [],
   "source": []
  },
  {
   "cell_type": "markdown",
   "id": "ecc8e915-c9ad-44a3-9964-2d047516a3bb",
   "metadata": {},
   "source": [
    "15. Let's see how matplotlib handles plotting dates. We'll create a time series plot using an array of dates and random cumulative data:\n",
    "- Generate a numpy array of dates starting from `2022-01-01` to `2022-01-10` at intervals of 3 hours using `dates=np.arange(np.datetime64('2022-01-01'), np.datetime64('2022-01-10'), np.timedelta64(3, 'h'))`\n",
    "- Creative a cumulative sum of random numbers for the same length of the array of dates using `data=np.cumsum(np.random.randn(len(dates)))`\n",
    "- Plot the data with the dates on the x axis and `data` on the y axis.\n",
    "\n",
    "Take a look at the dates if we don't format the axis - do they look all bunched up?\n",
    "- Format the x-axis with `ConciseDateFormatter` for better readability of the date ticks"
   ]
  },
  {
   "cell_type": "code",
   "execution_count": 15,
   "id": "b44349e4-73cd-450f-b61e-304fb727b80b",
   "metadata": {
    "editable": true,
    "execution": {
     "iopub.execute_input": "2024-10-15T12:49:08.118187Z",
     "iopub.status.busy": "2024-10-15T12:49:08.117590Z",
     "iopub.status.idle": "2024-10-15T12:49:08.482457Z",
     "shell.execute_reply": "2024-10-15T12:49:08.481937Z"
    },
    "slideshow": {
     "slide_type": ""
    },
    "tags": [
     "clear_answer_cell"
    ]
   },
   "outputs": [],
   "source": []
  },
  {
   "cell_type": "markdown",
   "id": "0f022a40-f65d-4649-a63e-bcdbd4cdf4a1",
   "metadata": {},
   "source": [
    "16. Let's have a go at plotting some categorical data. We'll create a bar chart using a list of categories and random values:\n",
    "- Define a list of four fruit names `['apple', 'banana', 'cherry', 'date']`\n",
    "- Generate random data for these categories using `np.random.rand()`\n",
    "- Create a bar plot using these categories and their corresponding random values using `ax.bar()`"
   ]
  },
  {
   "cell_type": "code",
   "execution_count": 16,
   "id": "491a7449-45a9-4ef9-88a5-ab6d1244c3ca",
   "metadata": {
    "editable": true,
    "execution": {
     "iopub.execute_input": "2024-10-15T12:49:08.485239Z",
     "iopub.status.busy": "2024-10-15T12:49:08.484972Z",
     "iopub.status.idle": "2024-10-15T12:49:08.702857Z",
     "shell.execute_reply": "2024-10-15T12:49:08.702086Z"
    },
    "slideshow": {
     "slide_type": ""
    },
    "tags": [
     "clear_answer_cell"
    ]
   },
   "outputs": [],
   "source": []
  },
  {
   "cell_type": "markdown",
   "id": "9d86f4d0-fd73-40b4-aa36-beb40ffbab10",
   "metadata": {},
   "source": [
    "17. Let's create a plot that demonstrates the use of both a secondary y-axis and a secondary x-axis with different scales:\n",
    "- Generate a time series `t` ranging from 0 to 2pi with 100 points\n",
    "- Create two datasets: `s` for a sine wave and `l` for a linearly increasing dataset between 0 and the length of t\n",
    "- Plot both datasets on the same figure: on the first subplot plot the sine wave on the left y axis and the linear data on the right y axis using `twinx()`, on the second subplot plot the sine wave with a secondary x axis that converts radians to degrees using `secondary_xaxis()`"
   ]
  },
  {
   "cell_type": "code",
   "execution_count": 17,
   "id": "eb48d19a-3a71-45f4-961f-73e529185796",
   "metadata": {
    "editable": true,
    "execution": {
     "iopub.execute_input": "2024-10-15T12:49:08.708229Z",
     "iopub.status.busy": "2024-10-15T12:49:08.707974Z",
     "iopub.status.idle": "2024-10-15T12:49:09.796942Z",
     "shell.execute_reply": "2024-10-15T12:49:09.796304Z"
    },
    "slideshow": {
     "slide_type": ""
    },
    "tags": [
     "clear_answer_cell"
    ]
   },
   "outputs": [],
   "source": []
  },
  {
   "cell_type": "markdown",
   "id": "ef2b0027-33a2-4c69-8bff-fada5fcc0daa",
   "metadata": {},
   "source": [
    "## 8. Colour mapped data"
   ]
  },
  {
   "cell_type": "markdown",
   "id": "4a4d9f48-0dbc-4b5e-a54a-f440c6c9f46b",
   "metadata": {},
   "source": [
    "18. Let's create a series of suplots to practice visualizing data with colormaps:\n",
    "- Generate x and y data using `x, y = np.meshgrid(np.linspace(-3, 3, 128), np.linspace(-3, 3, 128))`\n",
    "- Generate Z data using `z = (1 - x/2 + x**5 + y**3) * np.exp(-x**2 - y**2)\n",
    "- Generate 2 datsets to use for our scatter plot using `np.random.randn(100)` and generate a third dataset to use for the colors using `np.random.rand(100)`\n",
    "- Create 4 subplots in a 2x2 grid\n",
    "- First plot: use `pcolormesh()` to display z values with a colormap\n",
    "- Second plot: use `contourf()` to create a filled contour plot\n",
    "- Third plot: use `imshow()` with a logarithmic color scale (`LogNorm`) to represent the square of z values\n",
    "- Fourth plot: create a scatter plot where the colour of each point depends on that third datset we made\n",
    "- Add colorbars to each plot to indicate the mapping between data and colours"
   ]
  },
  {
   "cell_type": "code",
   "execution_count": 18,
   "id": "75e37d2d-a0cd-4694-a7dd-5f1c2fb8e468",
   "metadata": {
    "editable": true,
    "execution": {
     "iopub.execute_input": "2024-10-15T12:49:09.800294Z",
     "iopub.status.busy": "2024-10-15T12:49:09.800014Z",
     "iopub.status.idle": "2024-10-15T12:49:11.912974Z",
     "shell.execute_reply": "2024-10-15T12:49:11.912223Z"
    },
    "slideshow": {
     "slide_type": ""
    },
    "tags": [
     "clear_answer_cell"
    ]
   },
   "outputs": [],
   "source": []
  },
  {
   "cell_type": "markdown",
   "id": "71a90323-7b93-4bda-b519-6a945e812e3a",
   "metadata": {},
   "source": [
    "## 9. Multiple figures/axes"
   ]
  },
  {
   "cell_type": "markdown",
   "id": "4d431ef9-295d-4c21-b9ef-2f4b118b11c6",
   "metadata": {},
   "source": [
    "19. Let's create a figure with multiple subplots using the `suplot_mosiac` method. Each subplot should have its own distinct data and be customized with titles, labels, and a legend. You will also need to manipulate different azes in a single figure and work with multiple figures in a single program:\n",
    "- Create a figure using `plt.subplot_mosaic()` with the following layout: `[['top', 'top', 'right'], ['bottom-left', 'bottom-right', 'right']]` with the layout set to `constrained` so the figure is properly spaced\n",
    "- In the `top` subplot, plot a sine wave over values from 0 to 2pi\n",
    "- In the `bottom-left` subplot, plot a cosine wabe over 0 to 2pi\n",
    "- In the `bottom-right` subplot, create a scatter plot of random points\n",
    "- In the `right` subplot, create a bar chart showing any categorical data of your choice\n",
    "- Give appropriate titles to each subplot using `set_title()`\n",
    "- Label the x-axis and y-axis for the sine and cosine plots\n",
    "- Add a legend to the sine and cosine plots indicating which function is being plotted\n",
    "- For the bar chart, label the bars and set different colours for each category\n",
    "- Create a new figure using `plt.figure()` and plot a simple line graph of exponential growth in a single subplot\n",
    "- Ensure both the mosaic figure and extra figure are displayed properly "
   ]
  },
  {
   "cell_type": "code",
   "execution_count": 19,
   "id": "3d3d277c-3440-484a-a9a4-69f1d0168ec4",
   "metadata": {
    "editable": true,
    "execution": {
     "iopub.execute_input": "2024-10-15T12:49:11.923581Z",
     "iopub.status.busy": "2024-10-15T12:49:11.922755Z",
     "iopub.status.idle": "2024-10-15T12:49:13.393947Z",
     "shell.execute_reply": "2024-10-15T12:49:13.393288Z"
    },
    "slideshow": {
     "slide_type": ""
    },
    "tags": [
     "clear_answer_cell"
    ]
   },
   "outputs": [],
   "source": []
  }
 ],
 "metadata": {
  "kernelspec": {
   "display_name": "Python 3 + Jaspy",
   "language": "python",
   "name": "jaspy"
  },
  "language_info": {
   "codemirror_mode": {
    "name": "ipython",
    "version": 3
   },
   "file_extension": ".py",
   "mimetype": "text/x-python",
   "name": "python",
   "nbconvert_exporter": "python",
   "pygments_lexer": "ipython3",
   "version": "3.11.9"
  }
 },
 "nbformat": 4,
 "nbformat_minor": 5
}
